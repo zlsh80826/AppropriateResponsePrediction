{
 "cells": [
  {
   "cell_type": "code",
   "execution_count": 1,
   "metadata": {},
   "outputs": [],
   "source": [
    "import random\n",
    "import numpy as np\n",
    "from tqdm import tqdm_notebook"
   ]
  },
  {
   "cell_type": "code",
   "execution_count": 2,
   "metadata": {},
   "outputs": [],
   "source": [
    "tokenized_questions = np.load('../data/tokenized_questions.npy')\n",
    "extended_programs = np.load('../data/extended_programs.npy')"
   ]
  },
  {
   "cell_type": "code",
   "execution_count": 3,
   "metadata": {
    "scrolled": true
   },
   "outputs": [],
   "source": [
    "sentences = list()\n",
    "\n",
    "for program in extended_programs:\n",
    "    for episode in program:\n",
    "        for sentence in episode:\n",
    "            sentences.append(sentence)\n",
    "            \n",
    "shuffle_list = list(range(len(sentences)-1))\n",
    "random.shuffle(shuffle_list)"
   ]
  },
  {
   "cell_type": "code",
   "execution_count": 4,
   "metadata": {},
   "outputs": [],
   "source": [
    "def generate_testing_data(questions):\n",
    "    x = []\n",
    "    for sample in questions:\n",
    "        question = sample[0]\n",
    "        options = sample[1:]\n",
    "        for option in options:\n",
    "            x.append((question, option))\n",
    "    return x"
   ]
  },
  {
   "cell_type": "code",
   "execution_count": 5,
   "metadata": {},
   "outputs": [],
   "source": [
    "def write_question(x):\n",
    "    with open('../data/test.tsv', 'w', encoding='utf-8') as file:\n",
    "        for xx in tqdm_notebook(x):\n",
    "            nt = [t for t in xx[0] if t != '\\t']\n",
    "            c1 = ' '.join(nt)\n",
    "            nt = [t for t in xx[1] if t != '\\t']\n",
    "            c2 = ' '.join(nt)\n",
    "            file.write(c1 + '\\t' + c2 + '\\n')"
   ]
  },
  {
   "cell_type": "code",
   "execution_count": 6,
   "metadata": {},
   "outputs": [],
   "source": [
    "def generate_training_data(sentences, num_samples, shuffle_list):\n",
    "    x, y = [], []\n",
    "    count = 0\n",
    "    for i in tqdm_notebook(range(num_samples)):\n",
    "        pos_or_neg = random.randint(0, 1)\n",
    "        \n",
    "        if pos_or_neg < 1:\n",
    "            try:\n",
    "                x.append((sentences[shuffle_list[count]], sentences[shuffle_list[count] + 3]))\n",
    "            except:\n",
    "                x.append((sentences[0], sentences[3]))\n",
    "            y.append(1)\n",
    "            count = (count + 1) % len(sentences)\n",
    "            \n",
    "        else:\n",
    "            f = random.randint(0, len(sentences)-1)\n",
    "            s = random.randint(0, len(sentences)-1)\n",
    "            x.append((sentences[f], sentences[s]))\n",
    "            y.append(0)\n",
    "    \n",
    "    return x, y"
   ]
  },
  {
   "cell_type": "code",
   "execution_count": 7,
   "metadata": {},
   "outputs": [],
   "source": [
    "def write_tsv(type_, x, y):\n",
    "    with open('../data/{}.tsv'.format(type_), 'w', encoding='utf-8') as file:\n",
    "        for xx, yy in tqdm_notebook(zip(x, y)):\n",
    "            nt = [t for t in xx[0] if t != '\\t']\n",
    "            c1 = ' '.join(nt)\n",
    "            nt = [t for t in xx[1] if t != '\\t']\n",
    "            c2 = ' '.join(nt)\n",
    "            file.write(c1 + '\\t' + c2 + '\\t' + str(yy) + '\\n')"
   ]
  },
  {
   "cell_type": "code",
   "execution_count": 8,
   "metadata": {},
   "outputs": [],
   "source": [
    "test_x = generate_testing_data(tokenized_questions)"
   ]
  },
  {
   "cell_type": "code",
   "execution_count": 9,
   "metadata": {},
   "outputs": [
    {
     "data": {
      "application/vnd.jupyter.widget-view+json": {
       "model_id": "836e2289d1dd446c9693b54d1edc61f5",
       "version_major": 2,
       "version_minor": 0
      },
      "text/plain": [
       "HBox(children=(IntProgress(value=0, max=3000), HTML(value='')))"
      ]
     },
     "metadata": {},
     "output_type": "display_data"
    },
    {
     "name": "stdout",
     "output_type": "stream",
     "text": [
      "\n"
     ]
    }
   ],
   "source": [
    "write_question(test_x)"
   ]
  },
  {
   "cell_type": "code",
   "execution_count": 10,
   "metadata": {},
   "outputs": [
    {
     "data": {
      "application/vnd.jupyter.widget-view+json": {
       "model_id": "0a3532374c6f44a0955e617e76c85db0",
       "version_major": 2,
       "version_minor": 0
      },
      "text/plain": [
       "HBox(children=(IntProgress(value=0, max=4000000), HTML(value='')))"
      ]
     },
     "metadata": {},
     "output_type": "display_data"
    },
    {
     "name": "stdout",
     "output_type": "stream",
     "text": [
      "\n"
     ]
    },
    {
     "data": {
      "application/vnd.jupyter.widget-view+json": {
       "model_id": "f799e9ee543d4f53af53a36b558fccf3",
       "version_major": 2,
       "version_minor": 0
      },
      "text/plain": [
       "HBox(children=(IntProgress(value=0, max=10000), HTML(value='')))"
      ]
     },
     "metadata": {},
     "output_type": "display_data"
    },
    {
     "name": "stdout",
     "output_type": "stream",
     "text": [
      "\n"
     ]
    }
   ],
   "source": [
    "train_x, train_y = generate_training_data(sentences, 4000000, shuffle_list[:2000000])\n",
    "valid_x, valid_y = generate_training_data(sentences, 10000, shuffle_list[2000000:])"
   ]
  },
  {
   "cell_type": "code",
   "execution_count": 11,
   "metadata": {},
   "outputs": [
    {
     "data": {
      "application/vnd.jupyter.widget-view+json": {
       "model_id": "6e89812ec17f4e6d9e67a91264a03a08",
       "version_major": 2,
       "version_minor": 0
      },
      "text/plain": [
       "HBox(children=(IntProgress(value=1, bar_style='info', max=1), HTML(value='')))"
      ]
     },
     "metadata": {},
     "output_type": "display_data"
    },
    {
     "name": "stdout",
     "output_type": "stream",
     "text": [
      "\n"
     ]
    },
    {
     "data": {
      "application/vnd.jupyter.widget-view+json": {
       "model_id": "fc784f13c9fe4f6e908d03fb904d961c",
       "version_major": 2,
       "version_minor": 0
      },
      "text/plain": [
       "HBox(children=(IntProgress(value=1, bar_style='info', max=1), HTML(value='')))"
      ]
     },
     "metadata": {},
     "output_type": "display_data"
    },
    {
     "name": "stdout",
     "output_type": "stream",
     "text": [
      "\n"
     ]
    }
   ],
   "source": [
    "write_tsv('train', train_x, train_y)\n",
    "write_tsv('dev', valid_x, valid_y)"
   ]
  },
  {
   "cell_type": "code",
   "execution_count": null,
   "metadata": {},
   "outputs": [],
   "source": []
  },
  {
   "cell_type": "code",
   "execution_count": null,
   "metadata": {},
   "outputs": [],
   "source": []
  }
 ],
 "metadata": {
  "kernelspec": {
   "display_name": "Python 3",
   "language": "python",
   "name": "python3"
  },
  "language_info": {
   "codemirror_mode": {
    "name": "ipython",
    "version": 3
   },
   "file_extension": ".py",
   "mimetype": "text/x-python",
   "name": "python",
   "nbconvert_exporter": "python",
   "pygments_lexer": "ipython3",
   "version": "3.6.3"
  }
 },
 "nbformat": 4,
 "nbformat_minor": 2
}
