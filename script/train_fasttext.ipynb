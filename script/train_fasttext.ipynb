{
 "cells": [
  {
   "cell_type": "code",
   "execution_count": 1,
   "metadata": {},
   "outputs": [],
   "source": [
    "import numpy as np\n",
    "from gensim.models import FastText"
   ]
  },
  {
   "cell_type": "code",
   "execution_count": 2,
   "metadata": {},
   "outputs": [],
   "source": [
    "sentences = np.load('../data/word2vec_train.npy')"
   ]
  },
  {
   "cell_type": "code",
   "execution_count": 3,
   "metadata": {},
   "outputs": [
    {
     "name": "stdout",
     "output_type": "stream",
     "text": [
      "CPU times: user 1h 3min 43s, sys: 1min 28s, total: 1h 5min 12s\n",
      "Wall time: 14min 37s\n"
     ]
    }
   ],
   "source": [
    "%time model = FastText(sentences, size=300, window=12, min_count=1, workers=24, iter=50)"
   ]
  },
  {
   "cell_type": "code",
   "execution_count": 4,
   "metadata": {},
   "outputs": [
    {
     "name": "stderr",
     "output_type": "stream",
     "text": [
      "/mnt/shared/zlsh80826/DeepLearning/env/lib64/python3.6/site-packages/gensim/matutils.py:737: FutureWarning: Conversion of the second argument of issubdtype from `int` to `np.signedinteger` is deprecated. In future, it will be treated as `np.int64 == np.dtype(int).type`.\n",
      "  if np.issubdtype(vec.dtype, np.int):\n"
     ]
    },
    {
     "data": {
      "text/plain": [
       "[('很棒', 0.5503754615783691),\n",
       " ('蠻好', 0.5385404825210571),\n",
       " ('不好', 0.5324200391769409),\n",
       " ('轉身到', 0.526553750038147),\n",
       " ('很好', 0.5256825685501099),\n",
       " ('不夠', 0.48702818155288696),\n",
       " ('狄', 0.47764313220977783),\n",
       " ('橋柱', 0.4354879856109619),\n",
       " ('慵', 0.43115997314453125),\n",
       " ('不容', 0.43042710423469543)]"
      ]
     },
     "execution_count": 4,
     "metadata": {},
     "output_type": "execute_result"
    }
   ],
   "source": [
    "model.wv.most_similar('不錯')"
   ]
  },
  {
   "cell_type": "code",
   "execution_count": 5,
   "metadata": {},
   "outputs": [
    {
     "name": "stderr",
     "output_type": "stream",
     "text": [
      "/mnt/shared/zlsh80826/DeepLearning/env/lib64/python3.6/site-packages/gensim/matutils.py:737: FutureWarning: Conversion of the second argument of issubdtype from `int` to `np.signedinteger` is deprecated. In future, it will be treated as `np.int64 == np.dtype(int).type`.\n",
      "  if np.issubdtype(vec.dtype, np.int):\n"
     ]
    },
    {
     "data": {
      "text/plain": [
       "[('人名', 0.8963313102722168),\n",
       " ('像話', 0.3832554817199707),\n",
       " ('不像話', 0.3821505904197693),\n",
       " ('迎曦', 0.3415204882621765),\n",
       " ('迎曦門', 0.3396013379096985),\n",
       " ('Y', 0.3355312645435333),\n",
       " ('票據', 0.33158057928085327),\n",
       " ('rap', 0.32767030596733093),\n",
       " ('投機股', 0.32711854577064514),\n",
       " ('金石堂', 0.3262168765068054)]"
      ]
     },
     "execution_count": 5,
     "metadata": {},
     "output_type": "execute_result"
    }
   ],
   "source": [
    "model.wv.most_similar('<人名>')"
   ]
  },
  {
   "cell_type": "code",
   "execution_count": 6,
   "metadata": {},
   "outputs": [],
   "source": [
    "model.save('../embedding/fasttext_300_12_1_50_sg0.bin')"
   ]
  },
  {
   "cell_type": "code",
   "execution_count": null,
   "metadata": {},
   "outputs": [],
   "source": []
  }
 ],
 "metadata": {
  "kernelspec": {
   "display_name": "Python 3",
   "language": "python",
   "name": "python3"
  },
  "language_info": {
   "codemirror_mode": {
    "name": "ipython",
    "version": 3
   },
   "file_extension": ".py",
   "mimetype": "text/x-python",
   "name": "python",
   "nbconvert_exporter": "python",
   "pygments_lexer": "ipython3",
   "version": "3.6.3"
  }
 },
 "nbformat": 4,
 "nbformat_minor": 2
}
