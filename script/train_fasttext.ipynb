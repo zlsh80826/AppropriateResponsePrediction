{
 "cells": [
  {
   "cell_type": "code",
   "execution_count": 1,
   "metadata": {},
   "outputs": [],
   "source": [
    "import numpy as np\n",
    "from gensim.models import FastText"
   ]
  },
  {
   "cell_type": "code",
   "execution_count": 2,
   "metadata": {},
   "outputs": [],
   "source": [
    "sentences = np.load('../data/word2vec_train.npy')"
   ]
  },
  {
   "cell_type": "code",
   "execution_count": 3,
   "metadata": {},
   "outputs": [
    {
     "name": "stdout",
     "output_type": "stream",
     "text": [
      "CPU times: user 1h 11min 12s, sys: 1min 30s, total: 1h 12min 42s\n",
      "Wall time: 14min 46s\n"
     ]
    }
   ],
   "source": [
    "%time model = FastText(sentences, size=384, window=15, min_count=5, workers=24, iter=50)"
   ]
  },
  {
   "cell_type": "code",
   "execution_count": 4,
   "metadata": {},
   "outputs": [
    {
     "name": "stderr",
     "output_type": "stream",
     "text": [
      "/mnt/shared/zlsh80826/DeepLearning/env/lib64/python3.6/site-packages/gensim/matutils.py:737: FutureWarning: Conversion of the second argument of issubdtype from `int` to `np.signedinteger` is deprecated. In future, it will be treated as `np.int64 == np.dtype(int).type`.\n",
      "  if np.issubdtype(vec.dtype, np.int):\n"
     ]
    },
    {
     "data": {
      "text/plain": [
       "[('很棒', 0.5311317443847656),\n",
       " ('蠻好', 0.5208438634872437),\n",
       " ('很好', 0.5050055384635925),\n",
       " ('不好', 0.480027437210083),\n",
       " ('不夠', 0.44977104663848877),\n",
       " ('狄', 0.4211369752883911),\n",
       " ('不容', 0.42102912068367004),\n",
       " ('滿好', 0.4060966372489929),\n",
       " ('不太', 0.3964918255805969),\n",
       " ('不少', 0.39356303215026855)]"
      ]
     },
     "execution_count": 4,
     "metadata": {},
     "output_type": "execute_result"
    }
   ],
   "source": [
    "model.wv.most_similar('不錯')"
   ]
  },
  {
   "cell_type": "code",
   "execution_count": 5,
   "metadata": {},
   "outputs": [
    {
     "name": "stderr",
     "output_type": "stream",
     "text": [
      "/mnt/shared/zlsh80826/DeepLearning/env/lib64/python3.6/site-packages/gensim/matutils.py:737: FutureWarning: Conversion of the second argument of issubdtype from `int` to `np.signedinteger` is deprecated. In future, it will be treated as `np.int64 == np.dtype(int).type`.\n",
      "  if np.issubdtype(vec.dtype, np.int):\n"
     ]
    },
    {
     "data": {
      "text/plain": [
       "[('人名', 0.9009469747543335),\n",
       " ('不像話', 0.3335420489311218),\n",
       " ('像話', 0.30897650122642517),\n",
       " ('土色', 0.30896952748298645),\n",
       " ('Y', 0.28974971175193787),\n",
       " ('權法', 0.2812724709510803),\n",
       " ('Milky', 0.2783287465572357),\n",
       " ('國名', 0.2762105464935303),\n",
       " ('票據', 0.27330365777015686),\n",
       " ('詩情畫意', 0.2723359763622284)]"
      ]
     },
     "execution_count": 5,
     "metadata": {},
     "output_type": "execute_result"
    }
   ],
   "source": [
    "model.wv.most_similar('<人名>')"
   ]
  },
  {
   "cell_type": "code",
   "execution_count": 7,
   "metadata": {},
   "outputs": [],
   "source": [
    "model.save('../embedding/fasttext_384_15_5_50_sg0.bin')"
   ]
  },
  {
   "cell_type": "code",
   "execution_count": null,
   "metadata": {},
   "outputs": [],
   "source": []
  }
 ],
 "metadata": {
  "kernelspec": {
   "display_name": "Python 3",
   "language": "python",
   "name": "python3"
  },
  "language_info": {
   "codemirror_mode": {
    "name": "ipython",
    "version": 3
   },
   "file_extension": ".py",
   "mimetype": "text/x-python",
   "name": "python",
   "nbconvert_exporter": "python",
   "pygments_lexer": "ipython3",
   "version": "3.6.3"
  }
 },
 "nbformat": 4,
 "nbformat_minor": 2
}
