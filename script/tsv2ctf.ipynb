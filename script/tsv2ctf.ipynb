{
 "cells": [
  {
   "cell_type": "code",
   "execution_count": 1,
   "metadata": {},
   "outputs": [],
   "source": [
    "from collections import defaultdict\n",
    "from gensim.models import FastText\n",
    "from itertools import zip_longest\n",
    "from tqdm import tqdm_notebook"
   ]
  },
  {
   "cell_type": "code",
   "execution_count": 2,
   "metadata": {},
   "outputs": [
    {
     "name": "stdout",
     "output_type": "stream",
     "text": [
      "105792\n"
     ]
    }
   ],
   "source": [
    "model = FastText.load('../embedding/fasttext_300_12_1_50_sg0.bin')\n",
    "index = 1\n",
    "vocab_dict = defaultdict(int)\n",
    "for vocab in model.wv.vocab:\n",
    "    vocab_dict[vocab] = index\n",
    "    index += 1\n",
    "print(len(model.wv.vocab))"
   ]
  },
  {
   "cell_type": "code",
   "execution_count": 3,
   "metadata": {},
   "outputs": [],
   "source": [
    "def read_tsv(type_):\n",
    "    data = []\n",
    "    with open('../data/{}.tsv'.format(type_), encoding='utf-8') as file:\n",
    "        for line in file:\n",
    "            if type_.find('test') < 0:\n",
    "                c1, c2, y = line.split('\\t')\n",
    "                data.append((c1.split(' '), c2.split(' '), y[:1]))\n",
    "            else:\n",
    "                c1, c2 = line.split('\\t')\n",
    "                data.append((c1.split(' '), c2.split(' ')))\n",
    "    return data"
   ]
  },
  {
   "cell_type": "code",
   "execution_count": 4,
   "metadata": {},
   "outputs": [],
   "source": [
    "def write_ctf(type_, data):\n",
    "    word_size = 12\n",
    "    pad_spec = '{0:<%d.%d}' % (word_size, word_size)\n",
    "    sanitize = str.maketrans({\"|\": None, \"\\n\": None})\n",
    "\n",
    "    with open('../data/{}.ctf'.format(type_), 'w', encoding='utf-8') as file:\n",
    "        for idx, d in tqdm_notebook(enumerate(data)):\n",
    "            if type_.find('test') < 0:\n",
    "                c1, c2, ys = d[0], d[1], d[2]\n",
    "                for c1_token, c2_token, y in zip_longest(c1, c2, ys):\n",
    "                    out = [str(idx)]\n",
    "                    if c1_token is not None:\n",
    "                        out.append('|# %s' % pad_spec.format(c1_token.translate(sanitize)))\n",
    "                        out.append('|c1 {}:{}'.format(vocab_dict[c1_token], 1))\n",
    "                    if c2_token is not None:\n",
    "                        out.append('|# %s' % pad_spec.format(c2_token.translate(sanitize)))\n",
    "                        out.append('|c2 {}:{}'.format(vocab_dict[c2_token], 1))\n",
    "                    if y is not None:\n",
    "                        out.append('|y %3d  ' % int(y))\n",
    "                    file.write('\\t'.join(out))\n",
    "                    file.write('\\n')\n",
    "            else:\n",
    "                c1, c2 = d[0], d[1]\n",
    "                for c1_token, c2_token in zip_longest(c1, c2):\n",
    "                    out = [str(idx)]\n",
    "                    if c1_token is not None:\n",
    "                        out.append('|# %s' % pad_spec.format(c1_token.translate(sanitize)))\n",
    "                        out.append('|c1 {}:{}'.format(vocab_dict[c1_token], 1))\n",
    "                    if c2_token is not None:\n",
    "                        out.append('|# %s' % pad_spec.format(c2_token.translate(sanitize)))\n",
    "                        out.append('|c2 {}:{}'.format(vocab_dict[c2_token], 1))\n",
    "                    file.write('\\t'.join(out))\n",
    "                    file.write('\\n')"
   ]
  },
  {
   "cell_type": "code",
   "execution_count": 5,
   "metadata": {},
   "outputs": [
    {
     "data": {
      "application/vnd.jupyter.widget-view+json": {
       "model_id": "6f4b76eeefac44b49345252f64cd556b",
       "version_major": 2,
       "version_minor": 0
      },
      "text/plain": [
       "HBox(children=(IntProgress(value=1, bar_style='info', max=1), HTML(value='')))"
      ]
     },
     "metadata": {},
     "output_type": "display_data"
    },
    {
     "name": "stdout",
     "output_type": "stream",
     "text": [
      "\n"
     ]
    },
    {
     "data": {
      "application/vnd.jupyter.widget-view+json": {
       "model_id": "fe267e005bdb4280b385c89e4991d46d",
       "version_major": 2,
       "version_minor": 0
      },
      "text/plain": [
       "HBox(children=(IntProgress(value=1, bar_style='info', max=1), HTML(value='')))"
      ]
     },
     "metadata": {},
     "output_type": "display_data"
    },
    {
     "name": "stdout",
     "output_type": "stream",
     "text": [
      "\n"
     ]
    },
    {
     "data": {
      "application/vnd.jupyter.widget-view+json": {
       "model_id": "7e28be3fdf41412bbc17765ff44617a4",
       "version_major": 2,
       "version_minor": 0
      },
      "text/plain": [
       "HBox(children=(IntProgress(value=1, bar_style='info', max=1), HTML(value='')))"
      ]
     },
     "metadata": {},
     "output_type": "display_data"
    },
    {
     "name": "stdout",
     "output_type": "stream",
     "text": [
      "\n"
     ]
    }
   ],
   "source": [
    "train_data = read_tsv('train')\n",
    "valid_data = read_tsv('dev')\n",
    "test_data = read_tsv('test')\n",
    "\n",
    "write_ctf('train', train_data)\n",
    "write_ctf('dev', valid_data)\n",
    "write_ctf('test', test_data)"
   ]
  },
  {
   "cell_type": "code",
   "execution_count": null,
   "metadata": {},
   "outputs": [],
   "source": []
  }
 ],
 "metadata": {
  "kernelspec": {
   "display_name": "Python 3",
   "language": "python",
   "name": "python3"
  },
  "language_info": {
   "codemirror_mode": {
    "name": "ipython",
    "version": 3
   },
   "file_extension": ".py",
   "mimetype": "text/x-python",
   "name": "python",
   "nbconvert_exporter": "python",
   "pygments_lexer": "ipython3",
   "version": "3.6.3"
  }
 },
 "nbformat": 4,
 "nbformat_minor": 2
}
